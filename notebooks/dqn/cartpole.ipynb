{
 "cells": [
  {
   "cell_type": "code",
   "execution_count": 7,
   "id": "3ba6899a",
   "metadata": {},
   "outputs": [],
   "source": [
    "import os\n",
    "import torch\n",
    "import gymnasium\n",
    "\n",
    "import bright_rl as brl"
   ]
  },
  {
   "cell_type": "code",
   "execution_count": 8,
   "id": "e09288d5",
   "metadata": {},
   "outputs": [],
   "source": [
    "from torch.utils import tensorboard\n",
    "\n",
    "experiment_name = \"cartpole/dqn-2\"\n",
    "log_dir = os.path.join(\"../../tensorboard\", experiment_name)\n",
    "writer = tensorboard.SummaryWriter(log_dir=log_dir)"
   ]
  },
  {
   "cell_type": "code",
   "execution_count": 9,
   "id": "6a4e5707",
   "metadata": {},
   "outputs": [],
   "source": [
    "env = gymnasium.make(\"CartPole-v1\")\n",
    "env = gymnasium.wrappers.NormalizeObservation(env)"
   ]
  },
  {
   "cell_type": "code",
   "execution_count": 10,
   "id": "644c5670",
   "metadata": {},
   "outputs": [],
   "source": [
    "from torch import nn\n",
    "\n",
    "policy = nn.Sequential(\n",
    "    nn.Linear(env.observation_space.shape[0], 64),\n",
    "    nn.ELU(inplace=True),\n",
    "    nn.Linear(64, 64),\n",
    "    nn.ELU(inplace=True),\n",
    "    nn.Linear(64, 2),\n",
    ")"
   ]
  },
  {
   "cell_type": "code",
   "execution_count": 11,
   "id": "72686698",
   "metadata": {},
   "outputs": [],
   "source": [
    "import queue\n",
    "import numpy as np\n",
    "\n",
    "q = queue.Queue()\n",
    "\n",
    "def training(env, agent, nb_epochs):\n",
    "    rewards = queue.Queue(maxsize = 0)\n",
    "\n",
    "    for epoch in range(nb_epochs):\n",
    "        tt_reward = run_env(env, agent, epoch)\n",
    "\n",
    "        rewards.put(tt_reward)\n",
    "\n",
    "        writer.add_scalar(\"train/mean_reward\", np.mean(list(rewards.queue)), epoch)\n",
    "\n",
    "def run_env(env, agent, epoch):\n",
    "    sum_reward = 0\n",
    "\n",
    "    terminated = False\n",
    "    obs, info = env.reset()\n",
    "\n",
    "    while not terminated:\n",
    "        action = agent.act(obs)\n",
    "\n",
    "        new_obs, reward, terminated, truncated, info = env.step(action)\n",
    "\n",
    "        terminated = terminated or truncated\n",
    "\n",
    "        agent.observe(obs, action, reward, new_obs, terminated)\n",
    "\n",
    "        obs = new_obs\n",
    "\n",
    "        sum_reward += reward\n",
    "\n",
    "    writer.add_scalar(\"train/reward\", sum_reward, epoch)\n",
    "    writer.add_scalar(\"train/epsilon\", agent.epsilon, epoch)\n",
    "    writer.add_scalar(\"train/loss\", agent.loss, epoch)\n",
    "\n",
    "    return sum_reward"
   ]
  },
  {
   "cell_type": "code",
   "execution_count": null,
   "id": "fa1f439d",
   "metadata": {},
   "outputs": [],
   "source": [
    "agent = brl.dqn.DQN(policy=policy, learning_rate=3e-5)\n",
    "\n",
    "training(env, agent, nb_epochs=20000)"
   ]
  }
 ],
 "metadata": {
  "kernelspec": {
   "display_name": ".venv",
   "language": "python",
   "name": "python3"
  },
  "language_info": {
   "codemirror_mode": {
    "name": "ipython",
    "version": 3
   },
   "file_extension": ".py",
   "mimetype": "text/x-python",
   "name": "python",
   "nbconvert_exporter": "python",
   "pygments_lexer": "ipython3",
   "version": "3.12.11"
  }
 },
 "nbformat": 4,
 "nbformat_minor": 5
}
