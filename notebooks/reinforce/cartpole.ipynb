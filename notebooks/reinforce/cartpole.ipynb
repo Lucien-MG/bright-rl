{
 "cells": [
  {
   "cell_type": "code",
   "execution_count": 61,
   "id": "3ba6899a",
   "metadata": {},
   "outputs": [],
   "source": [
    "import os\n",
    "import torch\n",
    "import gymnasium\n",
    "\n",
    "import bright_rl as brl"
   ]
  },
  {
   "cell_type": "code",
   "execution_count": 62,
   "id": "e09288d5",
   "metadata": {},
   "outputs": [],
   "source": [
    "from torch.utils import tensorboard\n",
    "\n",
    "experiment_name = \"reinforce\"\n",
    "log_dir = os.path.join(\"../../tensorboard\", experiment_name)\n",
    "writer = tensorboard.SummaryWriter(log_dir=log_dir)"
   ]
  },
  {
   "cell_type": "code",
   "execution_count": 63,
   "id": "6a4e5707",
   "metadata": {},
   "outputs": [],
   "source": [
    "env = gymnasium.make(\"CartPole-v1\")\n",
    "env = gymnasium.wrappers.NormalizeObservation(env)"
   ]
  },
  {
   "cell_type": "code",
   "execution_count": 64,
   "id": "644c5670",
   "metadata": {},
   "outputs": [],
   "source": [
    "from torch import nn\n",
    "\n",
    "policy = nn.Sequential(\n",
    "    nn.Linear(env.observation_space.shape[0], 24),\n",
    "    nn.ReLU(inplace=True),\n",
    "    nn.Linear(24, 2),\n",
    ")"
   ]
  },
  {
   "cell_type": "code",
   "execution_count": 65,
   "id": "72686698",
   "metadata": {},
   "outputs": [],
   "source": [
    "agent = brl.reinforce.Reinforce(policy=policy, nb_episodes=1, optimizer=torch.optim.Adagrad, optimizer_parameters={\"lr\": 3e-2, \"lr_decay\": 1e-4})\n",
    "\n",
    "def training(env, agent, nb_epochs):\n",
    "    for epoch in range(nb_epochs):\n",
    "        run_env(env, agent, epoch)\n",
    "\n",
    "def run_env(env, agent, epoch):\n",
    "    sum_reward = 0\n",
    "\n",
    "    terminated = False\n",
    "    obs, info = env.reset()\n",
    "\n",
    "    while not terminated:\n",
    "        action = agent.act(obs)\n",
    "\n",
    "        new_obs, reward, terminated, truncated, info = env.step(action)\n",
    "\n",
    "        terminated = terminated or truncated\n",
    "\n",
    "        agent.observe(obs, action, reward, new_obs, terminated)\n",
    "\n",
    "        obs = new_obs\n",
    "\n",
    "        sum_reward += reward\n",
    "\n",
    "    writer.add_scalar(\"train/reward\", sum_reward, epoch)\n",
    "    writer.add_scalar(\"train/loss\", agent.loss, epoch)"
   ]
  },
  {
   "cell_type": "code",
   "execution_count": 66,
   "id": "fa1f439d",
   "metadata": {},
   "outputs": [],
   "source": [
    "training(env, agent, nb_epochs=300)"
   ]
  }
 ],
 "metadata": {
  "kernelspec": {
   "display_name": ".venv",
   "language": "python",
   "name": "python3"
  },
  "language_info": {
   "codemirror_mode": {
    "name": "ipython",
    "version": 3
   },
   "file_extension": ".py",
   "mimetype": "text/x-python",
   "name": "python",
   "nbconvert_exporter": "python",
   "pygments_lexer": "ipython3",
   "version": "3.12.11"
  }
 },
 "nbformat": 4,
 "nbformat_minor": 5
}
