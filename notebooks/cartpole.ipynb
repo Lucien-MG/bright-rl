{
 "cells": [
  {
   "cell_type": "code",
   "execution_count": null,
   "id": "3ba6899a",
   "metadata": {},
   "outputs": [],
   "source": [
    "import os\n",
    "import torch\n",
    "import gymnasium\n",
    "\n",
    "import brl"
   ]
  },
  {
   "cell_type": "code",
   "execution_count": null,
   "id": "72686698",
   "metadata": {},
   "outputs": [],
   "source": [
    "experiment_name = \"reinforce_4\"\n",
    "log_dir = os.path.join(\"../tensorboard\", experiment_name)\n",
    "writer = torch.utils.tensorboard.SummaryWriter(log_dir=log_dir)\n",
    "\n",
    "class MyPolicy(torch.nn.Module):\n",
    "\n",
    "    def __init__(self, n_observations, n_actions):\n",
    "        super(MyPolicy, self).__init__()\n",
    "\n",
    "        self.layer1 = torch.nn.Linear(n_observations, 64)\n",
    "        self.layer2 = torch.nn.Linear(64, n_actions)\n",
    "\n",
    "    def forward(self, x):\n",
    "        x = torch.nn.functional.relu(self.layer1(x))\n",
    "        x = self.layer2(x)\n",
    "        return x\n",
    "\n",
    "    def act(self, state):\n",
    "        state = torch.from_numpy(state)\n",
    "        probabilities = torch.nn.functional.softmax(self.forward(state), dim=0)\n",
    "        action = torch.multinomial(probabilities, num_samples=1).item()\n",
    "        return action\n",
    "\n",
    "def _init_weights(m):\n",
    "    if isinstance(m, torch.nn.Linear):\n",
    "        torch.nn.init.uniform_(m.weight)\n",
    "        m.bias.data.fill_(0.01)\n",
    "\n",
    "env = gymnasium.make(\"CartPole-v1\")\n",
    "\n",
    "policy = MyPolicy(n_observations=env.observation_space.shape[0], n_actions=2)\n",
    "policy.apply(_init_weights)\n",
    "\n",
    "agent = brl.reinforce.Reinforce(policy=policy)\n",
    "\n",
    "def training(env, agent, nb_epochs):\n",
    "    for epoch in range(nb_epochs):\n",
    "        run_env(env, agent, epoch)\n",
    "\n",
    "def run_env(env, agent, epoch):\n",
    "    sum_reward = 0\n",
    "\n",
    "    terminated = False\n",
    "    obs, info = env.reset()\n",
    "\n",
    "    while not terminated:\n",
    "        action = agent.act(obs)\n",
    "\n",
    "        new_obs, reward, terminated, truncated, info = env.step(action)\n",
    "\n",
    "        terminated = terminated or truncated\n",
    "\n",
    "        agent.observe(obs, action, reward, new_obs)\n",
    "\n",
    "        obs = new_obs\n",
    "\n",
    "        sum_reward += reward\n",
    "\n",
    "    agent.optimize()\n",
    "\n",
    "    writer.add_scalar(\"train/reward\", sum_reward, epoch)\n",
    "    writer.add_scalar(\"train/loss\", agent.loss, epoch)"
   ]
  },
  {
   "cell_type": "code",
   "execution_count": 4,
   "id": "fa1f439d",
   "metadata": {},
   "outputs": [],
   "source": [
    "training(env, agent, nb_epochs=1000)"
   ]
  },
  {
   "cell_type": "code",
   "execution_count": null,
   "id": "cb023836",
   "metadata": {},
   "outputs": [],
   "source": [
    "env = gymnasium.make(\"CartPole-v1\")"
   ]
  }
 ],
 "metadata": {
  "kernelspec": {
   "display_name": ".venv",
   "language": "python",
   "name": "python3"
  },
  "language_info": {
   "codemirror_mode": {
    "name": "ipython",
    "version": 3
   },
   "file_extension": ".py",
   "mimetype": "text/x-python",
   "name": "python",
   "nbconvert_exporter": "python",
   "pygments_lexer": "ipython3",
   "version": "3.11.2"
  }
 },
 "nbformat": 4,
 "nbformat_minor": 5
}
